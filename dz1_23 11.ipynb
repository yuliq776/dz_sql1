{
 "cells": [
  {
   "cell_type": "code",
   "execution_count": 1,
   "id": "f51f64d4",
   "metadata": {},
   "outputs": [
    {
     "name": "stdout",
     "output_type": "stream",
     "text": [
      "Requirement already satisfied: psycopg2 in /Users/uliazukova/opt/anaconda3/lib/python3.9/site-packages (2.9.5)\n",
      "Note: you may need to restart the kernel to use updated packages.\n"
     ]
    }
   ],
   "source": [
    "%pip install psycopg2"
   ]
  },
  {
   "cell_type": "code",
   "execution_count": 3,
   "id": "1254080b",
   "metadata": {},
   "outputs": [
    {
     "name": "stdout",
     "output_type": "stream",
     "text": [
      "DROP TABLE IF EXISTS users;\n",
      "DROP TABLE IF EXISTS likes;\n",
      "CREATE TABLE users (\n",
      "                         user_id    INT       NOT NULL,\n",
      "                         name    TEXT       NOT NULL,\n",
      "                         created    TIMESTAMP NOT NULL\n",
      "                );\n",
      "                \n",
      "CREATE TABLE likes (\n",
      "                         user_id    INT       NOT NULL,\n",
      "                         created    TIMESTAMP NOT NULL,\n",
      "                         user_id_give    INT       NOT NULL\n",
      "                  );\n",
      "                \n"
     ]
    }
   ],
   "source": [
    "import psycopg2 as pg_driver\n",
    "\n",
    "db = pg_driver.connect(\n",
    "                        database=\"postgres\", \n",
    "                        user='postgres',\n",
    "                        password='jetic900', \n",
    "                        host='localhost', \n",
    "                        port='5432'\n",
    "                    )\n",
    "\n",
    "\n",
    "\n",
    "def execute_queries(db, sql_commands):\n",
    "    db.autocommit = True\n",
    "    # тот же самый курсор\n",
    "    with db.cursor() as cursor:\n",
    "        # в цикле поочередно выполняем запросы\n",
    "        for sql_command in sql_commands:\n",
    "            print(sql_command)\n",
    "            # тот же самый .execute() для выполнения запроса\n",
    "            cursor.execute(sql_command)\n",
    "\n",
    "\n",
    "sql_commands = [\"DROP TABLE IF EXISTS users;\",\n",
    "                \"DROP TABLE IF EXISTS likes;\",\n",
    "                \"\"\"CREATE TABLE users (\n",
    "                         user_id    INT       NOT NULL,\n",
    "                         name    TEXT       NOT NULL,\n",
    "                         created    TIMESTAMP NOT NULL\n",
    "                );\n",
    "                \"\"\",\n",
    "                \"\"\"CREATE TABLE likes (\n",
    "                         user_id    INT       NOT NULL,\n",
    "                         created    TIMESTAMP NOT NULL,\n",
    "                         user_id_give    INT       NOT NULL\n",
    "                  );\n",
    "                \"\"\"]\n",
    "\n",
    "\n",
    "execute_queries(db, sql_commands)"
   ]
  },
  {
   "cell_type": "code",
   "execution_count": 4,
   "id": "4c9ec886",
   "metadata": {},
   "outputs": [
    {
     "name": "stdout",
     "output_type": "stream",
     "text": [
      "[Record(count=0)]\n",
      "[Record(count=0)]\n"
     ]
    }
   ],
   "source": [
    "import psycopg2\n",
    "from psycopg2 import Error\n",
    "from psycopg2.extras import NamedTupleCursor\n",
    "\n",
    "def execute_query(query, fetch_result=False):\n",
    "    try:\n",
    "        connection = pg_driver.connect(\n",
    "                        database=\"postgres\", \n",
    "                        user='postgres',\n",
    "                        password='jetic900', \n",
    "                        host='localhost', \n",
    "                        port='5432'\n",
    "                    );\n",
    "        \n",
    "        connection.autocommit = True\n",
    "        cursor = connection.cursor(cursor_factory=NamedTupleCursor)\n",
    "        cursor.execute(query)\n",
    "        if fetch_result:\n",
    "            return cursor.fetchall()\n",
    "    except (Exception, Error) as error:\n",
    "        print(\"Error while connecting to PostgreSQL\", error)\n",
    "    finally:\n",
    "        if (connection):\n",
    "            cursor.close()\n",
    "            connection.close()\n",
    "row_count_hist = execute_query(\"select count(*) from users\", fetch_result=True)\n",
    "row_count_payment = execute_query(\"select count(*) from likes\", fetch_result=True)\n",
    "\n",
    "print(row_count_hist)\n",
    "print(row_count_payment)"
   ]
  },
  {
   "cell_type": "code",
   "execution_count": 5,
   "id": "977b3ef8",
   "metadata": {},
   "outputs": [],
   "source": [
    "query = \"\"\" INSERT INTO users (user_id, created, name) \n",
    "            VALUES \n",
    "                 (1, to_timestamp('16-05-2021 15:36:38', 'dd-mm-yyyy hh24:mi:ss'), 'Mark'),\n",
    "                 (2, to_timestamp('16-06-2018 14:36:38', 'dd-mm-yyyy hh24:mi:ss'), 'Dima'),\n",
    "                 (3, to_timestamp('16-07-2020 09:36:38', 'dd-mm-yyyy hh24:mi:ss'), 'Phill'),\n",
    "                 (4, to_timestamp('16-06-2018 15:36:38', 'dd-mm-yyyy hh24:mi:ss'), 'Viktor'),\n",
    "                 (5, to_timestamp('16-06-2018 16:36:38', 'dd-mm-yyyy hh24:mi:ss'), 'Ivan')\n",
    "                 \n",
    "            \n",
    "        \"\"\"\n",
    "\n",
    "execute_query(query)\n",
    "\n",
    "query = \"\"\" INSERT INTO likes (user_id, created, user_id_give) \n",
    "            VALUES \n",
    "                 (1, to_timestamp('16-05-2021 15:36:38', 'dd-mm-yyyy hh24:mi:ss'), 5),\n",
    "                 (2, to_timestamp('16-06-2018 14:36:38', 'dd-mm-yyyy hh24:mi:ss'), 4),\n",
    "                 (3, to_timestamp('16-07-2020 09:36:38', 'dd-mm-yyyy hh24:mi:ss'), 3),\n",
    "                 (4, to_timestamp('16-06-2018 15:36:38', 'dd-mm-yyyy hh24:mi:ss'), 2),\n",
    "                 (5, to_timestamp('16-06-2018 16:36:38', 'dd-mm-yyyy hh24:mi:ss'), 1)\n",
    "                 \n",
    "            \n",
    "        \"\"\"\n",
    "\n",
    "execute_query(query)"
   ]
  },
  {
   "cell_type": "code",
   "execution_count": 6,
   "id": "92199495",
   "metadata": {},
   "outputs": [],
   "source": [
    "query = \"\"\" INSERT INTO likes (user_id, created, user_id_give) \n",
    "            VALUES \n",
    "                 (1, to_timestamp('16-05-2021 15:36:38', 'dd-mm-yyyy hh24:mi:ss'), 4),\n",
    "                 (1, to_timestamp('16-06-2018 14:36:38', 'dd-mm-yyyy hh24:mi:ss'), 5),\n",
    "                 (2, to_timestamp('16-06-2018 14:36:38', 'dd-mm-yyyy hh24:mi:ss'), 5)\n",
    "                 \n",
    "\n",
    "                 \n",
    "            \n",
    "        \"\"\"\n",
    "\n",
    "execute_query(query)"
   ]
  },
  {
   "cell_type": "code",
   "execution_count": 7,
   "id": "7d358439",
   "metadata": {},
   "outputs": [
    {
     "name": "stdout",
     "output_type": "stream",
     "text": [
      "0 Record(user_id=3, count=1)\n",
      "1 Record(user_id=5, count=1)\n",
      "2 Record(user_id=4, count=1)\n",
      "3 Record(user_id=2, count=2)\n",
      "4 Record(user_id=1, count=3)\n"
     ]
    }
   ],
   "source": [
    "all_rows = execute_query(\"select user_id, count(*) from likes group by user_id\", fetch_result=True)\n",
    "for row, value in enumerate(all_rows):\n",
    "    print(row, value)"
   ]
  },
  {
   "cell_type": "code",
   "execution_count": 8,
   "id": "b2ace680",
   "metadata": {},
   "outputs": [
    {
     "name": "stdout",
     "output_type": "stream",
     "text": [
      "0 Record(user_id=1, count=3)\n"
     ]
    }
   ],
   "source": [
    "all_rows = execute_query(\"select user_id, count(*) from likes where user_id=1 group by user_id\", fetch_result=True)\n",
    "for row, value in enumerate(all_rows):\n",
    "    print(row, value)"
   ]
  },
  {
   "cell_type": "code",
   "execution_count": 9,
   "id": "963711e0",
   "metadata": {},
   "outputs": [
    {
     "name": "stdout",
     "output_type": "stream",
     "text": [
      "0 Record(user_id=1, name='Mark')\n",
      "1 Record(user_id=1, name='Mark')\n",
      "2 Record(user_id=1, name='Mark')\n"
     ]
    }
   ],
   "source": [
    "query = \"\"\"select l.user_id, u.name \n",
    "           from likes l\n",
    "           left join users u\n",
    "           on l.user_id=u.user_id\n",
    "           where l.user_id=1 \n",
    "           \n",
    "        \"\"\"\n",
    "all_rows = execute_query(query, fetch_result=True)\n",
    "for row, value in enumerate(all_rows):\n",
    "    print(row, value)"
   ]
  },
  {
   "cell_type": "code",
   "execution_count": 10,
   "id": "d8a42374",
   "metadata": {},
   "outputs": [
    {
     "name": "stdout",
     "output_type": "stream",
     "text": [
      "0 Record(from_id=5, from_name='Ivan', to_id=1, to_name='Mark')\n",
      "1 Record(from_id=4, from_name='Viktor', to_id=2, to_name='Dima')\n",
      "2 Record(from_id=3, from_name='Phill', to_id=3, to_name='Phill')\n",
      "3 Record(from_id=2, from_name='Dima', to_id=4, to_name='Viktor')\n",
      "4 Record(from_id=1, from_name='Mark', to_id=4, to_name='Viktor')\n",
      "5 Record(from_id=1, from_name='Mark', to_id=5, to_name='Ivan')\n",
      "6 Record(from_id=2, from_name='Dima', to_id=5, to_name='Ivan')\n",
      "7 Record(from_id=1, from_name='Mark', to_id=5, to_name='Ivan')\n"
     ]
    }
   ],
   "source": [
    "query = \"\"\"select\n",
    "                l.user_id as from_id,\n",
    "                u.name as from_name,\n",
    "                l.user_id_give as to_id,\n",
    "                us.name as to_name\n",
    "           from likes l\n",
    "           left join users u\n",
    "           on l.user_id=u.user_id\n",
    "           left join users us\n",
    "           on l.user_id_give=us.user_id\n",
    "           \n",
    "        \"\"\"\n",
    "all_rows = execute_query(query, fetch_result=True)\n",
    "for row, value in enumerate(all_rows):\n",
    "    print(row, value)\n",
    "    "
   ]
  },
  {
   "cell_type": "code",
   "execution_count": 11,
   "id": "74d23c36",
   "metadata": {},
   "outputs": [],
   "source": [
    "query = \"\"\" INSERT INTO users (user_id, created, name) \n",
    "            VALUES \n",
    "                 (10, to_timestamp('16-05-2021 15:36:38', 'dd-mm-yyyy hh24:mi:ss'), 'Mark')\n",
    " \n",
    "        \"\"\"\n",
    "\n",
    "execute_query(query)\n",
    "\n",
    "query = \"\"\" INSERT INTO likes (user_id, created, user_id_give) \n",
    "            VALUES \n",
    "                 (10, to_timestamp('16-05-2021 15:36:38', 'dd-mm-yyyy hh24:mi:ss'), 4)\n",
    "            \n",
    "        \"\"\"\n",
    "\n",
    "execute_query(query)"
   ]
  },
  {
   "cell_type": "code",
   "execution_count": 12,
   "id": "66c40640",
   "metadata": {},
   "outputs": [
    {
     "name": "stdout",
     "output_type": "stream",
     "text": [
      "0 Record(from_id=4, from_name='Viktor', like_count=1)\n",
      "1 Record(from_id=1, from_name='Mark', like_count=3)\n",
      "2 Record(from_id=3, from_name='Phill', like_count=1)\n",
      "3 Record(from_id=10, from_name='Mark', like_count=1)\n",
      "4 Record(from_id=2, from_name='Dima', like_count=2)\n",
      "5 Record(from_id=5, from_name='Ivan', like_count=1)\n"
     ]
    }
   ],
   "source": [
    "query = \"\"\"select\n",
    "                l.user_id as from_id,\n",
    "                u.name as from_name,\n",
    "                count(*) as like_count\n",
    "                \n",
    "           from likes l\n",
    "           left join users u\n",
    "           on l.user_id=u.user_id\n",
    "           group by l.user_id, u.name\n",
    "           \n",
    "        \"\"\"\n",
    "all_rows = execute_query(query, fetch_result=True)\n",
    "for row, value in enumerate(all_rows):\n",
    "    print(row, value)\n",
    "    "
   ]
  },
  {
   "cell_type": "code",
   "execution_count": 13,
   "id": "4950dfbc",
   "metadata": {},
   "outputs": [
    {
     "name": "stdout",
     "output_type": "stream",
     "text": [
      "0 Record(from_name='Viktor', like_count=1)\n",
      "1 Record(from_name='Phill', like_count=1)\n",
      "2 Record(from_name='Ivan', like_count=1)\n",
      "3 Record(from_name='Mark', like_count=4)\n",
      "4 Record(from_name='Dima', like_count=2)\n"
     ]
    }
   ],
   "source": [
    "query = \"\"\"select\n",
    "                --l.user_id as from_id,\n",
    "                u.name as from_name,\n",
    "                count(*) as like_count\n",
    "                \n",
    "           from likes l\n",
    "           left join users u\n",
    "           on l.user_id=u.user_id\n",
    "           group by u.name\n",
    "           \n",
    "        \"\"\"\n",
    "all_rows = execute_query(query, fetch_result=True)\n",
    "for row, value in enumerate(all_rows):\n",
    "    print(row, value)"
   ]
  },
  {
   "cell_type": "code",
   "execution_count": 14,
   "id": "7ade5d58",
   "metadata": {},
   "outputs": [
    {
     "name": "stdout",
     "output_type": "stream",
     "text": [
      "0 Record(to_id=4, to_name='Viktor', like_count=3)\n",
      "1 Record(to_id=1, to_name='Mark', like_count=1)\n",
      "2 Record(to_id=3, to_name='Phill', like_count=1)\n",
      "3 Record(to_id=2, to_name='Dima', like_count=1)\n",
      "4 Record(to_id=5, to_name='Ivan', like_count=3)\n"
     ]
    }
   ],
   "source": [
    "query = \"\"\"select\n",
    "                l.user_id_give as to_id,\n",
    "                u.name as to_name,\n",
    "                count(*) as like_count\n",
    "                \n",
    "           from likes l\n",
    "           left join users u\n",
    "           on l.user_id_give=u.user_id\n",
    "           group by l.user_id_give, u.name\n",
    "           \n",
    "        \"\"\"\n",
    "all_rows = execute_query(query, fetch_result=True)\n",
    "for row, value in enumerate(all_rows):\n",
    "    print(row, value)"
   ]
  },
  {
   "cell_type": "code",
   "execution_count": 15,
   "id": "09809265",
   "metadata": {},
   "outputs": [
    {
     "name": "stdout",
     "output_type": "stream",
     "text": [
      "0 Record(user_id=5, created=datetime.datetime(2018, 6, 16, 16, 36, 38), user_id_give=1)\n",
      "1 Record(user_id=4, created=datetime.datetime(2018, 6, 16, 15, 36, 38), user_id_give=2)\n",
      "2 Record(user_id=3, created=datetime.datetime(2020, 7, 16, 9, 36, 38), user_id_give=3)\n",
      "3 Record(user_id=10, created=datetime.datetime(2021, 5, 16, 15, 36, 38), user_id_give=4)\n",
      "4 Record(user_id=2, created=datetime.datetime(2018, 6, 16, 14, 36, 38), user_id_give=4)\n",
      "5 Record(user_id=1, created=datetime.datetime(2021, 5, 16, 15, 36, 38), user_id_give=4)\n",
      "6 Record(user_id=1, created=datetime.datetime(2018, 6, 16, 14, 36, 38), user_id_give=5)\n",
      "7 Record(user_id=2, created=datetime.datetime(2018, 6, 16, 14, 36, 38), user_id_give=5)\n",
      "8 Record(user_id=1, created=datetime.datetime(2021, 5, 16, 15, 36, 38), user_id_give=5)\n"
     ]
    }
   ],
   "source": [
    "query = \"\"\"select *\n",
    "                \n",
    "           from likes l\n",
    "           order by l.user_id_give\n",
    "           \n",
    "        \"\"\"\n",
    "all_rows = execute_query(query, fetch_result=True)\n",
    "for row, value in enumerate(all_rows):\n",
    "    print(row, value)\n",
    "    "
   ]
  },
  {
   "cell_type": "code",
   "execution_count": 16,
   "id": "63f11955",
   "metadata": {},
   "outputs": [],
   "source": [
    "query = \"\"\" INSERT INTO users (user_id, created, name) \n",
    "            VALUES \n",
    "                 (8, to_timestamp('16-05-2021 15:36:38', 'dd-mm-yyyy hh24:mi:ss'), 'Damir')\n",
    " \n",
    "        \"\"\"\n",
    "\n",
    "execute_query(query)"
   ]
  },
  {
   "cell_type": "code",
   "execution_count": 17,
   "id": "521c6584",
   "metadata": {},
   "outputs": [
    {
     "name": "stdout",
     "output_type": "stream",
     "text": [
      "0 Record(user_id=8, user_name='Damir', to_id=None)\n"
     ]
    }
   ],
   "source": [
    "query = \"\"\"select\n",
    "                \n",
    "                u.user_id as user_id,\n",
    "                u.name as user_name,\n",
    "                l.user_id_give as to_id\n",
    "                \n",
    "                \n",
    "           from users u\n",
    "           left join likes l\n",
    "           on u.user_id=l.user_id\n",
    "           where l.user_id_give is null\n",
    "           order by u.user_id\n",
    "           \n",
    "        \"\"\"\n",
    "all_rows = execute_query(query, fetch_result=True)\n",
    "for row, value in enumerate(all_rows):\n",
    "    print(row, value)"
   ]
  },
  {
   "cell_type": "code",
   "execution_count": null,
   "id": "2924e394",
   "metadata": {},
   "outputs": [],
   "source": []
  }
 ],
 "metadata": {
  "kernelspec": {
   "display_name": "Python 3 (ipykernel)",
   "language": "python",
   "name": "python3"
  },
  "language_info": {
   "codemirror_mode": {
    "name": "ipython",
    "version": 3
   },
   "file_extension": ".py",
   "mimetype": "text/x-python",
   "name": "python",
   "nbconvert_exporter": "python",
   "pygments_lexer": "ipython3",
   "version": "3.9.13"
  }
 },
 "nbformat": 4,
 "nbformat_minor": 5
}
